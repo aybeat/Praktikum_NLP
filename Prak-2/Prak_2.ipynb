{
  "cells": [
    {
      "cell_type": "code",
      "source": [
        "pip install faker"
      ],
      "metadata": {
        "colab": {
          "base_uri": "https://localhost:8080/"
        },
        "id": "k9lht42jzcBE",
        "outputId": "d322ce0d-492d-4ce8-fcfb-b3b504284d73"
      },
      "id": "k9lht42jzcBE",
      "execution_count": 12,
      "outputs": [
        {
          "output_type": "stream",
          "name": "stdout",
          "text": [
            "Requirement already satisfied: faker in /usr/local/lib/python3.10/dist-packages (19.10.0)\n",
            "Requirement already satisfied: python-dateutil>=2.4 in /usr/local/lib/python3.10/dist-packages (from faker) (2.8.2)\n",
            "Requirement already satisfied: six>=1.5 in /usr/local/lib/python3.10/dist-packages (from python-dateutil>=2.4->faker) (1.16.0)\n"
          ]
        }
      ]
    },
    {
      "cell_type": "code",
      "source": [
        "import re\n",
        "import pandas as pd"
      ],
      "metadata": {
        "id": "2C_RClWipAA1"
      },
      "id": "2C_RClWipAA1",
      "execution_count": 13,
      "outputs": []
    },
    {
      "cell_type": "code",
      "execution_count": 22,
      "id": "2857b1a4",
      "metadata": {
        "colab": {
          "base_uri": "https://localhost:8080/"
        },
        "id": "2857b1a4",
        "outputId": "5fb5dc75-5e08-454a-c9f0-837dd9d2ecf7"
      },
      "outputs": [
        {
          "output_type": "stream",
          "name": "stdout",
          "text": [
            "100 data dummy dengan nomor telepon kustom telah disimpan dalam dummy_data.txt.\n"
          ]
        }
      ],
      "source": [
        "from faker import Faker\n",
        "\n",
        "fake = Faker()\n",
        "\n",
        "def generate_custom_phone_number():\n",
        "    return fake.numerify('+1-###-###-####')\n",
        "\n",
        "jumlah_data = 100\n",
        "\n",
        "dummy_data = []\n",
        "\n",
        "for _ in range(jumlah_data):\n",
        "    nama = fake.name()\n",
        "    nomor_telepon = generate_custom_phone_number()\n",
        "    alamat = fake.address()\n",
        "    email = fake.email()\n",
        "\n",
        "    data = f\"Nama: {nama}\\nNomor Telepon: {nomor_telepon}\\nAlamat: {alamat}\\nEmail: {email}\\n\"\n",
        "    dummy_data.append(data)\n",
        "\n",
        "file_name = \"dummy_data.txt\"\n",
        "with open(file_name, \"w\") as file:\n",
        "    for data in dummy_data:\n",
        "        file.write(data + \"\\n\")\n",
        "\n",
        "print(f\"{jumlah_data} data dummy dengan nomor telepon kustom telah disimpan dalam {file_name}.\")"
      ]
    },
    {
      "cell_type": "code",
      "execution_count": 23,
      "id": "1e51c80f",
      "metadata": {
        "id": "1e51c80f"
      },
      "outputs": [],
      "source": [
        "with open(file_name, \"r\") as file:\n",
        "    text = file.read()"
      ]
    },
    {
      "cell_type": "code",
      "execution_count": 24,
      "id": "bbc74dbd",
      "metadata": {
        "colab": {
          "base_uri": "https://localhost:8080/"
        },
        "id": "bbc74dbd",
        "outputId": "7723dc93-f371-493b-9230-8bac099c0b0b"
      },
      "outputs": [
        {
          "output_type": "stream",
          "name": "stdout",
          "text": [
            "['ffoster@example.com', 'kimberlyramirez@example.net', 'tom89@example.com', 'hayesteresa@example.com', 'kaitlin48@example.org', 'reyesjonathan@example.org', 'curtis04@example.com', 'woodsshawn@example.org', 'kristinabarnes@example.org', 'smithdouglas@example.net', 'john79@example.org', 'howens@example.com', 'nicole20@example.org', 'ginalewis@example.org', 'taylor47@example.com', 'fdeleon@example.com', 'sandraherring@example.org', 'lauriemay@example.com', 'rbrown@example.com', 'clarkricardo@example.net', 'miguelgoodwin@example.com', 'charles97@example.com', 'ashley93@example.com', 'patelpatrick@example.org', 'antonio23@example.net', 'marksmith@example.org', 'wrightshannon@example.org', 'hughessabrina@example.net', 'geraldbaker@example.org', 'aalexander@example.net', 'david44@example.net', 'crivera@example.org', 'parnold@example.com', 'donnatyler@example.com', 'ldunn@example.net', 'bclark@example.com', 'jeremy16@example.net', 'pattymay@example.net', 'fdennis@example.net', 'dwalker@example.org', 'hwatson@example.net', 'justin00@example.net', 'lopezmatthew@example.net', 'tyoung@example.net', 'fwilson@example.com', 'kjackson@example.org', 'morgan54@example.net', 'haley41@example.com', 'torresluis@example.com', 'anna90@example.com', 'matthew74@example.com', 'anthony05@example.net', 'mike24@example.com', 'jeremy33@example.org', 'davidmartin@example.net', 'catherine99@example.com', 'clarkejohn@example.com', 'heidijones@example.com', 'marissa37@example.net', 'eric24@example.org', 'hholloway@example.net', 'enorris@example.com', 'nswanson@example.net', 'christian03@example.org', 'rebeccalee@example.com', 'bradley16@example.net', 'strongjoel@example.com', 'salinaspaul@example.com', 'william41@example.org', 'ericahunter@example.com', 'browe@example.org', 'robertscott@example.com', 'vharris@example.org', 'braymary@example.org', 'boltondaniel@example.org', 'wilsonrobert@example.net', 'natashagarcia@example.net', 'paul00@example.com', 'manuelwilliams@example.com', 'jacob79@example.com', 'angelamatthews@example.org', 'qsuarez@example.org', 'hornmarie@example.net', 'vanessa78@example.com', 'qray@example.org', 'emilykerr@example.net', 'tyler57@example.com', 'harriskaitlyn@example.org', 'wilsondebra@example.com', 'rachelhernandez@example.net', 'caitlinhanson@example.net', 'brian92@example.net', 'monicaallison@example.org', 'singletoncheryl@example.com', 'plucas@example.net', 'shanegarcia@example.com', 'juanharris@example.net', 'njackson@example.net', 'guerreroruben@example.com', 'terryrebecca@example.org']\n"
          ]
        }
      ],
      "source": [
        "email_pattern = r'\\b[A-Za-z0-9._%+-]+@[A-Za-z0-9.-]+\\.[A-Z|a-z]{2,7}\\b'\n",
        "\n",
        "email_addresses = re.findall(email_pattern, text)\n",
        "print(email_addresses)"
      ]
    },
    {
      "cell_type": "code",
      "execution_count": 25,
      "id": "39917c2c",
      "metadata": {
        "colab": {
          "base_uri": "https://localhost:8080/"
        },
        "id": "39917c2c",
        "outputId": "1e1fe80b-383a-4c82-dd0b-de7d1816fa36"
      },
      "outputs": [
        {
          "output_type": "stream",
          "name": "stdout",
          "text": [
            "['+1-826-029-1661', '+1-232-764-5225', '+1-153-509-4248', '+1-364-501-1385', '+1-229-969-4124', '+1-086-918-0208', '+1-102-246-0258', '+1-455-333-3083', '+1-316-470-4341', '+1-281-550-6882', '+1-289-586-9226', '+1-592-239-0318', '+1-189-217-4886', '+1-028-066-6095', '+1-885-417-1620', '+1-528-378-5836', '+1-584-634-0143', '+1-299-076-4795', '+1-083-433-6608', '+1-342-594-3473', '+1-358-379-4729', '+1-567-341-1558', '+1-552-976-8533', '+1-861-682-8019', '+1-961-542-6613', '+1-130-825-0329', '+1-428-168-6590', '+1-664-057-2590', '+1-225-208-7323', '+1-446-905-8281', '+1-663-519-9363', '+1-932-186-5063', '+1-678-121-5382', '+1-410-849-1910', '+1-922-306-3120', '+1-084-806-8514', '+1-687-028-4744', '+1-463-627-0293', '+1-986-810-6647', '+1-937-360-4678', '+1-813-640-9561', '+1-736-277-5479', '+1-244-375-2406', '+1-259-110-1188', '+1-251-523-2531', '+1-364-818-1255', '+1-933-619-4133', '+1-857-258-2292', '+1-351-491-0958', '+1-178-921-3643', '+1-829-450-2097', '+1-277-328-8844', '+1-333-738-4645', '+1-698-207-3453', '+1-496-636-9158', '+1-856-885-4372', '+1-090-722-6249', '+1-237-640-4877', '+1-538-243-1602', '+1-581-236-0907', '+1-112-863-8246', '+1-483-086-7635', '+1-215-160-8586', '+1-777-200-7004', '+1-262-823-7145', '+1-679-294-9662', '+1-897-173-3747', '+1-077-272-2860', '+1-822-976-1791', '+1-033-309-7124', '+1-759-398-9181', '+1-183-677-7094', '+1-754-044-4061', '+1-313-745-6271', '+1-013-675-8347', '+1-014-454-5670', '+1-556-077-8762', '+1-395-908-1814', '+1-054-348-4482', '+1-795-745-3682', '+1-486-987-0883', '+1-441-521-0255', '+1-647-886-8916', '+1-462-509-0272', '+1-510-922-3813', '+1-455-371-4691', '+1-077-298-4031', '+1-313-439-7472', '+1-486-867-0350', '+1-996-056-2802', '+1-931-990-5504', '+1-829-743-2626', '+1-438-789-6364', '+1-561-513-1689', '+1-304-115-9908', '+1-336-346-7903', '+1-347-418-5694', '+1-535-624-4086', '+1-030-399-3721', '+1-320-680-4130']\n"
          ]
        }
      ],
      "source": [
        "phone_pattern = r'\\+\\d{1}-\\d{3}-\\d{3}-\\d{4}'\n",
        "\n",
        "phone_numbers = re.findall(phone_pattern, text)\n",
        "print(phone_numbers)"
      ]
    },
    {
      "cell_type": "code",
      "execution_count": 26,
      "id": "a1513ae0",
      "metadata": {
        "colab": {
          "base_uri": "https://localhost:8080/"
        },
        "id": "a1513ae0",
        "outputId": "3e541812-326b-474d-e69a-9a89368fa963"
      },
      "outputs": [
        {
          "output_type": "stream",
          "name": "stdout",
          "text": [
            "                          Email    Nomor Telepon\n",
            "0           ffoster@example.com  +1-826-029-1661\n",
            "1   kimberlyramirez@example.net  +1-232-764-5225\n",
            "2             tom89@example.com  +1-153-509-4248\n",
            "3       hayesteresa@example.com  +1-364-501-1385\n",
            "4         kaitlin48@example.org  +1-229-969-4124\n",
            "..                          ...              ...\n",
            "95      shanegarcia@example.com  +1-336-346-7903\n",
            "96       juanharris@example.net  +1-347-418-5694\n",
            "97         njackson@example.net  +1-535-624-4086\n",
            "98    guerreroruben@example.com  +1-030-399-3721\n",
            "99     terryrebecca@example.org  +1-320-680-4130\n",
            "\n",
            "[100 rows x 2 columns]\n"
          ]
        }
      ],
      "source": [
        "data = {'Email': email_addresses, 'Nomor Telepon': phone_numbers}\n",
        "df = pd.DataFrame(data)\n",
        "\n",
        "print(df)"
      ]
    },
    {
      "cell_type": "code",
      "execution_count": 27,
      "id": "5fdb7686",
      "metadata": {
        "id": "5fdb7686"
      },
      "outputs": [],
      "source": [
        "df.to_excel('Prak NLP2.xlsx')"
      ]
    }
  ],
  "metadata": {
    "kernelspec": {
      "display_name": "Python 3 (ipykernel)",
      "language": "python",
      "name": "python3"
    },
    "language_info": {
      "codemirror_mode": {
        "name": "ipython",
        "version": 3
      },
      "file_extension": ".py",
      "mimetype": "text/x-python",
      "name": "python",
      "nbconvert_exporter": "python",
      "pygments_lexer": "ipython3",
      "version": "3.10.10"
    },
    "colab": {
      "provenance": []
    }
  },
  "nbformat": 4,
  "nbformat_minor": 5
}